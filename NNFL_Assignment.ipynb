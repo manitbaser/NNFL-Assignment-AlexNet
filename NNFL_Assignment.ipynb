{
  "nbformat": 4,
  "nbformat_minor": 0,
  "metadata": {
    "colab": {
      "name": "NNFL_Assignment.ipynb",
      "provenance": [],
      "collapsed_sections": []
    },
    "kernelspec": {
      "name": "python3",
      "display_name": "Python 3"
    },
    "accelerator": "GPU"
  },
  "cells": [
    {
      "cell_type": "code",
      "metadata": {
        "id": "L003dWs3sfdQ"
      },
      "source": [
        "import tensorflow as tf\n",
        "import numpy as np"
      ],
      "execution_count": 1,
      "outputs": []
    },
    {
      "cell_type": "code",
      "metadata": {
        "id": "9hqM4YOKheZk",
        "colab": {
          "base_uri": "https://localhost:8080/"
        },
        "outputId": "0b914a8a-cd42-4e56-c6e9-00a4ff881a07"
      },
      "source": [
        "!conda install pip\n",
        "!pip install tflearn\n",
        "import tflearn.datasets.oxflower17 as oxflower17\n",
        "x, y = oxflower17.load_data(one_hot=True)\n",
        "print(x.shape)\n",
        "print(y.shape)\n",
        "from sklearn.model_selection import train_test_split\n",
        "train_data, val_data, train_labels, val_labels = train_test_split(x, y, test_size=0.1)"
      ],
      "execution_count": 5,
      "outputs": [
        {
          "output_type": "stream",
          "text": [
            "/bin/bash: conda: command not found\n",
            "Collecting tflearn\n",
            "\u001b[?25l  Downloading https://files.pythonhosted.org/packages/e7/3c/0b156d08ef3d4e2a8009ecab2af1ad2e304f6fb99562b6271c68a74a4397/tflearn-0.5.0.tar.gz (107kB)\n",
            "\u001b[K     |████████████████████████████████| 112kB 9.0MB/s \n",
            "\u001b[?25hRequirement already satisfied: numpy in /usr/local/lib/python3.6/dist-packages (from tflearn) (1.19.4)\n",
            "Requirement already satisfied: six in /usr/local/lib/python3.6/dist-packages (from tflearn) (1.15.0)\n",
            "Requirement already satisfied: Pillow in /usr/local/lib/python3.6/dist-packages (from tflearn) (7.0.0)\n",
            "Building wheels for collected packages: tflearn\n",
            "  Building wheel for tflearn (setup.py) ... \u001b[?25l\u001b[?25hdone\n",
            "  Created wheel for tflearn: filename=tflearn-0.5.0-cp36-none-any.whl size=127301 sha256=83aac487d31c461a9f5ac2b511a0849a6630ae3b14b4fcb718efd59ce3f15e42\n",
            "  Stored in directory: /root/.cache/pip/wheels/31/d2/ed/fb9a0d301dd9586c11e9547120278e624227f22fd5f4baf744\n",
            "Successfully built tflearn\n",
            "Installing collected packages: tflearn\n",
            "Successfully installed tflearn-0.5.0\n",
            "WARNING:tensorflow:From /usr/local/lib/python3.6/dist-packages/tensorflow/python/compat/v2_compat.py:96: disable_resource_variables (from tensorflow.python.ops.variable_scope) is deprecated and will be removed in a future version.\n",
            "Instructions for updating:\n",
            "non-resource variables are not supported in the long term\n",
            "Downloading Oxford 17 category Flower Dataset, Please wait...\n"
          ],
          "name": "stdout"
        },
        {
          "output_type": "stream",
          "text": [
            "100.0% 60276736 / 60270631\n"
          ],
          "name": "stderr"
        },
        {
          "output_type": "stream",
          "text": [
            "Succesfully downloaded 17flowers.tgz 60270631 bytes.\n",
            "File Extracted\n",
            "Starting to parse images...\n",
            "Parsing Done!\n",
            "(1360, 224, 224, 3)\n",
            "(1360, 17)\n"
          ],
          "name": "stdout"
        }
      ]
    },
    {
      "cell_type": "code",
      "metadata": {
        "id": "a6PlEgqpiR_I"
      },
      "source": [
        "model = tf.keras.Sequential()\n",
        "\n",
        "model.add(tf.keras.layers.Conv2D(filters=96,padding='valid', activation='relu',input_shape=(224,224,3),kernel_size=(11,11),strides=(4,4)))\n",
        "model.add(tf.keras.layers.MaxPooling2D(pool_size=(2,2),strides=(2,2),padding='valid'))\n",
        "model.add(tf.keras.layers.BatchNormalization())\n"
      ],
      "execution_count": 6,
      "outputs": []
    },
    {
      "cell_type": "code",
      "metadata": {
        "id": "z6OxTPAAjVP1"
      },
      "source": [
        "model.add(tf.keras.layers.Conv2D(filters=256,padding='valid',strides=(1,1),kernel_size=(5,5),activation='relu'))\n",
        "\n",
        "model.add(tf.keras.layers.MaxPooling2D(pool_size=(2,2),strides=(2,2),padding='valid'))\n",
        "\n",
        "model.add(tf.keras.layers.BatchNormalization())\n"
      ],
      "execution_count": 7,
      "outputs": []
    },
    {
      "cell_type": "code",
      "metadata": {
        "id": "izesB8EqyCRw"
      },
      "source": [
        "model.add(tf.keras.layers.Conv2D(filters=384,padding='valid',strides=(1,1),kernel_size=(3,3),activation='relu'))"
      ],
      "execution_count": 8,
      "outputs": []
    },
    {
      "cell_type": "code",
      "metadata": {
        "id": "FE5VbJ81yeo7"
      },
      "source": [
        "model.add(tf.keras.layers.Conv2D(filters=384,padding='valid',strides=(1,1),kernel_size=(3,3),activation='relu'))"
      ],
      "execution_count": 9,
      "outputs": []
    },
    {
      "cell_type": "code",
      "metadata": {
        "id": "O6P3jZEryuUG"
      },
      "source": [
        "model.add(tf.keras.layers.Conv2D(filters=256,padding='valid',strides=(1,1),kernel_size=(3,3),activation='relu'))\n",
        "\n",
        "model.add(tf.keras.layers.MaxPooling2D(pool_size=(2,2),strides=(2,2),padding='valid'))\n",
        "\n"
      ],
      "execution_count": 10,
      "outputs": []
    },
    {
      "cell_type": "code",
      "metadata": {
        "id": "mrN9KbjAzECf"
      },
      "source": [
        "model.add(tf.keras.layers.Flatten())\n",
        "model.add(tf.keras.layers.Dense(4096, activation='relu'))\n",
        "model.add(tf.keras.layers.Dropout(0.2))\n",
        "model.add(tf.keras.layers.BatchNormalization())"
      ],
      "execution_count": 11,
      "outputs": []
    },
    {
      "cell_type": "code",
      "metadata": {
        "id": "M84lyHV001y3"
      },
      "source": [
        "model.add(tf.keras.layers.Dense(4096, activation='relu'))\n",
        "model.add(tf.keras.layers.Dropout(0.2))\n",
        "model.add(tf.keras.layers.BatchNormalization())"
      ],
      "execution_count": 12,
      "outputs": []
    },
    {
      "cell_type": "code",
      "metadata": {
        "id": "s7c8TFaI1VX4"
      },
      "source": [
        " model.add(tf.keras.layers.Dense(17, activation='softmax'))\n",
        "#model.add(tf.keras.layers.Dense(5, activation='softmax'))"
      ],
      "execution_count": 13,
      "outputs": []
    },
    {
      "cell_type": "code",
      "metadata": {
        "id": "Ts-097WeytMX",
        "colab": {
          "base_uri": "https://localhost:8080/"
        },
        "outputId": "8e44918d-7a01-4942-b5d7-5efd5e52502a"
      },
      "source": [
        "model.summary()"
      ],
      "execution_count": 14,
      "outputs": [
        {
          "output_type": "stream",
          "text": [
            "Model: \"sequential\"\n",
            "_________________________________________________________________\n",
            "Layer (type)                 Output Shape              Param #   \n",
            "=================================================================\n",
            "conv2d (Conv2D)              (None, 54, 54, 96)        34944     \n",
            "_________________________________________________________________\n",
            "max_pooling2d (MaxPooling2D) (None, 27, 27, 96)        0         \n",
            "_________________________________________________________________\n",
            "batch_normalization (BatchNo (None, 27, 27, 96)        384       \n",
            "_________________________________________________________________\n",
            "conv2d_1 (Conv2D)            (None, 23, 23, 256)       614656    \n",
            "_________________________________________________________________\n",
            "max_pooling2d_1 (MaxPooling2 (None, 11, 11, 256)       0         \n",
            "_________________________________________________________________\n",
            "batch_normalization_1 (Batch (None, 11, 11, 256)       1024      \n",
            "_________________________________________________________________\n",
            "conv2d_2 (Conv2D)            (None, 9, 9, 384)         885120    \n",
            "_________________________________________________________________\n",
            "conv2d_3 (Conv2D)            (None, 7, 7, 384)         1327488   \n",
            "_________________________________________________________________\n",
            "conv2d_4 (Conv2D)            (None, 5, 5, 256)         884992    \n",
            "_________________________________________________________________\n",
            "max_pooling2d_2 (MaxPooling2 (None, 2, 2, 256)         0         \n",
            "_________________________________________________________________\n",
            "flatten (Flatten)            (None, 1024)              0         \n",
            "_________________________________________________________________\n",
            "dense (Dense)                (None, 4096)              4198400   \n",
            "_________________________________________________________________\n",
            "dropout (Dropout)            (None, 4096)              0         \n",
            "_________________________________________________________________\n",
            "batch_normalization_2 (Batch (None, 4096)              16384     \n",
            "_________________________________________________________________\n",
            "dense_1 (Dense)              (None, 4096)              16781312  \n",
            "_________________________________________________________________\n",
            "dropout_1 (Dropout)          (None, 4096)              0         \n",
            "_________________________________________________________________\n",
            "batch_normalization_3 (Batch (None, 4096)              16384     \n",
            "_________________________________________________________________\n",
            "dense_2 (Dense)              (None, 17)                69649     \n",
            "=================================================================\n",
            "Total params: 24,830,737\n",
            "Trainable params: 24,813,649\n",
            "Non-trainable params: 17,088\n",
            "_________________________________________________________________\n"
          ],
          "name": "stdout"
        }
      ]
    },
    {
      "cell_type": "code",
      "metadata": {
        "id": "hmQK0Ci7jkB9"
      },
      "source": [
        "model.compile(loss='mse',optimizer='adam',metrics=['accuracy'])"
      ],
      "execution_count": 16,
      "outputs": []
    },
    {
      "cell_type": "code",
      "metadata": {
        "id": "_hNT5lTrjqC1",
        "colab": {
          "base_uri": "https://localhost:8080/"
        },
        "outputId": "67cd6eda-251c-458f-acb9-6083c4d002b0"
      },
      "source": [
        "history = model.fit(train_data, train_labels, epochs=100, batch_size=64, verbose=1, shuffle=True,validation_split = 0.1)"
      ],
      "execution_count": 17,
      "outputs": [
        {
          "output_type": "stream",
          "text": [
            "Train on 1101 samples, validate on 123 samples\n",
            "Epoch 1/100\n",
            "1101/1101 [==============================] - ETA: 0s - loss: 0.0750 - acc: 0.0963"
          ],
          "name": "stdout"
        },
        {
          "output_type": "stream",
          "text": [
            "/usr/local/lib/python3.6/dist-packages/tensorflow/python/keras/engine/training.py:2325: UserWarning: `Model.state_updates` will be removed in a future version. This property should not be used in TensorFlow 2.0, as `updates` are applied automatically.\n",
            "  warnings.warn('`Model.state_updates` will be removed in a future version. '\n"
          ],
          "name": "stderr"
        },
        {
          "output_type": "stream",
          "text": [
            "1101/1101 [==============================] - 9s 8ms/sample - loss: 0.0750 - acc: 0.0963 - val_loss: 0.1039 - val_acc: 0.0894\n",
            "Epoch 2/100\n",
            "1101/1101 [==============================] - 1s 889us/sample - loss: 0.0685 - acc: 0.1135 - val_loss: 0.1100 - val_acc: 0.0650\n",
            "Epoch 3/100\n",
            "1101/1101 [==============================] - 1s 893us/sample - loss: 0.0619 - acc: 0.1599 - val_loss: 0.1089 - val_acc: 0.0650\n",
            "Epoch 4/100\n",
            "1101/1101 [==============================] - 1s 894us/sample - loss: 0.0593 - acc: 0.1916 - val_loss: 0.0733 - val_acc: 0.1057\n",
            "Epoch 5/100\n",
            "1101/1101 [==============================] - 1s 891us/sample - loss: 0.0579 - acc: 0.2298 - val_loss: 0.0720 - val_acc: 0.1057\n",
            "Epoch 6/100\n",
            "1101/1101 [==============================] - 1s 897us/sample - loss: 0.0578 - acc: 0.2289 - val_loss: 0.0567 - val_acc: 0.1545\n",
            "Epoch 7/100\n",
            "1101/1101 [==============================] - 1s 901us/sample - loss: 0.0568 - acc: 0.2516 - val_loss: 0.0569 - val_acc: 0.1545\n",
            "Epoch 8/100\n",
            "1101/1101 [==============================] - 1s 892us/sample - loss: 0.0552 - acc: 0.2779 - val_loss: 0.0529 - val_acc: 0.2439\n",
            "Epoch 9/100\n",
            "1101/1101 [==============================] - 1s 890us/sample - loss: 0.0587 - acc: 0.2652 - val_loss: 0.0590 - val_acc: 0.1463\n",
            "Epoch 10/100\n",
            "1101/1101 [==============================] - 1s 891us/sample - loss: 0.0596 - acc: 0.2271 - val_loss: 0.0583 - val_acc: 0.2276\n",
            "Epoch 11/100\n",
            "1101/1101 [==============================] - 1s 903us/sample - loss: 0.0560 - acc: 0.2861 - val_loss: 0.0626 - val_acc: 0.1626\n",
            "Epoch 12/100\n",
            "1101/1101 [==============================] - 1s 917us/sample - loss: 0.0606 - acc: 0.2262 - val_loss: 0.0779 - val_acc: 0.1789\n",
            "Epoch 13/100\n",
            "1101/1101 [==============================] - 1s 893us/sample - loss: 0.0580 - acc: 0.2470 - val_loss: 0.0618 - val_acc: 0.1301\n",
            "Epoch 14/100\n",
            "1101/1101 [==============================] - 1s 909us/sample - loss: 0.0538 - acc: 0.2925 - val_loss: 0.0639 - val_acc: 0.1463\n",
            "Epoch 15/100\n",
            "1101/1101 [==============================] - 1s 921us/sample - loss: 0.0542 - acc: 0.2825 - val_loss: 0.0601 - val_acc: 0.2033\n",
            "Epoch 16/100\n",
            "1101/1101 [==============================] - 1s 915us/sample - loss: 0.0522 - acc: 0.3015 - val_loss: 0.0556 - val_acc: 0.2764\n",
            "Epoch 17/100\n",
            "1101/1101 [==============================] - 1s 906us/sample - loss: 0.0531 - acc: 0.3006 - val_loss: 0.0506 - val_acc: 0.3659\n",
            "Epoch 18/100\n",
            "1101/1101 [==============================] - 1s 899us/sample - loss: 0.0509 - acc: 0.3397 - val_loss: 0.0585 - val_acc: 0.2683\n",
            "Epoch 19/100\n",
            "1101/1101 [==============================] - 1s 907us/sample - loss: 0.0524 - acc: 0.3488 - val_loss: 0.0524 - val_acc: 0.3089\n",
            "Epoch 20/100\n",
            "1101/1101 [==============================] - 1s 897us/sample - loss: 0.0489 - acc: 0.3615 - val_loss: 0.0550 - val_acc: 0.3089\n",
            "Epoch 21/100\n",
            "1101/1101 [==============================] - 1s 905us/sample - loss: 0.0482 - acc: 0.3833 - val_loss: 0.0822 - val_acc: 0.1138\n",
            "Epoch 22/100\n",
            "1101/1101 [==============================] - 1s 899us/sample - loss: 0.0495 - acc: 0.3787 - val_loss: 0.0782 - val_acc: 0.2683\n",
            "Epoch 23/100\n",
            "1101/1101 [==============================] - 1s 897us/sample - loss: 0.0508 - acc: 0.3669 - val_loss: 0.0826 - val_acc: 0.1951\n",
            "Epoch 24/100\n",
            "1101/1101 [==============================] - 1s 886us/sample - loss: 0.0520 - acc: 0.3615 - val_loss: 0.0765 - val_acc: 0.1870\n",
            "Epoch 25/100\n",
            "1101/1101 [==============================] - 1s 901us/sample - loss: 0.0622 - acc: 0.2343 - val_loss: 0.0890 - val_acc: 0.0732\n",
            "Epoch 26/100\n",
            "1101/1101 [==============================] - 1s 912us/sample - loss: 0.0541 - acc: 0.2897 - val_loss: 0.0901 - val_acc: 0.1057\n",
            "Epoch 27/100\n",
            "1101/1101 [==============================] - 1s 914us/sample - loss: 0.0520 - acc: 0.3088 - val_loss: 0.0811 - val_acc: 0.1138\n",
            "Epoch 28/100\n",
            "1101/1101 [==============================] - 1s 887us/sample - loss: 0.0538 - acc: 0.3106 - val_loss: 0.0850 - val_acc: 0.1463\n",
            "Epoch 29/100\n",
            "1101/1101 [==============================] - 1s 906us/sample - loss: 0.0535 - acc: 0.3161 - val_loss: 0.0726 - val_acc: 0.2439\n",
            "Epoch 30/100\n",
            "1101/1101 [==============================] - 1s 905us/sample - loss: 0.0527 - acc: 0.3433 - val_loss: 0.0745 - val_acc: 0.2195\n",
            "Epoch 31/100\n",
            "1101/1101 [==============================] - 1s 915us/sample - loss: 0.0546 - acc: 0.3070 - val_loss: 0.0620 - val_acc: 0.2114\n",
            "Epoch 32/100\n",
            "1101/1101 [==============================] - 1s 907us/sample - loss: 0.0562 - acc: 0.2734 - val_loss: 0.0567 - val_acc: 0.3089\n",
            "Epoch 33/100\n",
            "1101/1101 [==============================] - 1s 894us/sample - loss: 0.0499 - acc: 0.3597 - val_loss: 0.0546 - val_acc: 0.2764\n",
            "Epoch 34/100\n",
            "1101/1101 [==============================] - 1s 918us/sample - loss: 0.0504 - acc: 0.3497 - val_loss: 0.0565 - val_acc: 0.3008\n",
            "Epoch 35/100\n",
            "1101/1101 [==============================] - 1s 897us/sample - loss: 0.0550 - acc: 0.2925 - val_loss: 0.0531 - val_acc: 0.2764\n",
            "Epoch 36/100\n",
            "1101/1101 [==============================] - 1s 909us/sample - loss: 0.0523 - acc: 0.3270 - val_loss: 0.0535 - val_acc: 0.2602\n",
            "Epoch 37/100\n",
            "1101/1101 [==============================] - 1s 908us/sample - loss: 0.0512 - acc: 0.3306 - val_loss: 0.0583 - val_acc: 0.2276\n",
            "Epoch 38/100\n",
            "1101/1101 [==============================] - 1s 906us/sample - loss: 0.0490 - acc: 0.3569 - val_loss: 0.0620 - val_acc: 0.2764\n",
            "Epoch 39/100\n",
            "1101/1101 [==============================] - 1s 903us/sample - loss: 0.0502 - acc: 0.3542 - val_loss: 0.0619 - val_acc: 0.2439\n",
            "Epoch 40/100\n",
            "1101/1101 [==============================] - 1s 902us/sample - loss: 0.0495 - acc: 0.3642 - val_loss: 0.0609 - val_acc: 0.2195\n",
            "Epoch 41/100\n",
            "1101/1101 [==============================] - 1s 906us/sample - loss: 0.0555 - acc: 0.2852 - val_loss: 0.0911 - val_acc: 0.1626\n",
            "Epoch 42/100\n",
            "1101/1101 [==============================] - 1s 902us/sample - loss: 0.0548 - acc: 0.2916 - val_loss: 0.0633 - val_acc: 0.1707\n",
            "Epoch 43/100\n",
            "1101/1101 [==============================] - 1s 898us/sample - loss: 0.0532 - acc: 0.2988 - val_loss: 0.0638 - val_acc: 0.1301\n",
            "Epoch 44/100\n",
            "1101/1101 [==============================] - 1s 902us/sample - loss: 0.0522 - acc: 0.3243 - val_loss: 0.0694 - val_acc: 0.1382\n",
            "Epoch 45/100\n",
            "1101/1101 [==============================] - 1s 911us/sample - loss: 0.0502 - acc: 0.3715 - val_loss: 0.0583 - val_acc: 0.2114\n",
            "Epoch 46/100\n",
            "1101/1101 [==============================] - 1s 909us/sample - loss: 0.0489 - acc: 0.3824 - val_loss: 0.0622 - val_acc: 0.1870\n",
            "Epoch 47/100\n",
            "1101/1101 [==============================] - 1s 895us/sample - loss: 0.0490 - acc: 0.3688 - val_loss: 0.0718 - val_acc: 0.1382\n",
            "Epoch 48/100\n",
            "1101/1101 [==============================] - 1s 906us/sample - loss: 0.0501 - acc: 0.3778 - val_loss: 0.0687 - val_acc: 0.1545\n",
            "Epoch 49/100\n",
            "1101/1101 [==============================] - 1s 893us/sample - loss: 0.0504 - acc: 0.3715 - val_loss: 0.0641 - val_acc: 0.1789\n",
            "Epoch 50/100\n",
            "1101/1101 [==============================] - 1s 893us/sample - loss: 0.0485 - acc: 0.3924 - val_loss: 0.0603 - val_acc: 0.1870\n",
            "Epoch 51/100\n",
            "1101/1101 [==============================] - 1s 911us/sample - loss: 0.0466 - acc: 0.4133 - val_loss: 0.0556 - val_acc: 0.2520\n",
            "Epoch 52/100\n",
            "1101/1101 [==============================] - 1s 900us/sample - loss: 0.0475 - acc: 0.4015 - val_loss: 0.0602 - val_acc: 0.2358\n",
            "Epoch 53/100\n",
            "1101/1101 [==============================] - 1s 911us/sample - loss: 0.0493 - acc: 0.4160 - val_loss: 0.0620 - val_acc: 0.2520\n",
            "Epoch 54/100\n",
            "1101/1101 [==============================] - 1s 900us/sample - loss: 0.0483 - acc: 0.3887 - val_loss: 0.0507 - val_acc: 0.3252\n",
            "Epoch 55/100\n",
            "1101/1101 [==============================] - 1s 902us/sample - loss: 0.0527 - acc: 0.3706 - val_loss: 0.0568 - val_acc: 0.2520\n",
            "Epoch 56/100\n",
            "1101/1101 [==============================] - 1s 899us/sample - loss: 0.0505 - acc: 0.3797 - val_loss: 0.0639 - val_acc: 0.2033\n",
            "Epoch 57/100\n",
            "1101/1101 [==============================] - 1s 916us/sample - loss: 0.0494 - acc: 0.4024 - val_loss: 0.0596 - val_acc: 0.2602\n",
            "Epoch 58/100\n",
            "1101/1101 [==============================] - 1s 895us/sample - loss: 0.0481 - acc: 0.4124 - val_loss: 0.0548 - val_acc: 0.2927\n",
            "Epoch 59/100\n",
            "1101/1101 [==============================] - 1s 916us/sample - loss: 0.0493 - acc: 0.3924 - val_loss: 0.0547 - val_acc: 0.3415\n",
            "Epoch 60/100\n",
            "1101/1101 [==============================] - 1s 903us/sample - loss: 0.0526 - acc: 0.3579 - val_loss: 0.0485 - val_acc: 0.3984\n",
            "Epoch 61/100\n",
            "1101/1101 [==============================] - 1s 903us/sample - loss: 0.0456 - acc: 0.4251 - val_loss: 0.0438 - val_acc: 0.4065\n",
            "Epoch 62/100\n",
            "1101/1101 [==============================] - 1s 900us/sample - loss: 0.0428 - acc: 0.4596 - val_loss: 0.0485 - val_acc: 0.3902\n",
            "Epoch 63/100\n",
            "1101/1101 [==============================] - 1s 912us/sample - loss: 0.0428 - acc: 0.4650 - val_loss: 0.0479 - val_acc: 0.3577\n",
            "Epoch 64/100\n",
            "1101/1101 [==============================] - 1s 909us/sample - loss: 0.0411 - acc: 0.4768 - val_loss: 0.0495 - val_acc: 0.3659\n",
            "Epoch 65/100\n",
            "1101/1101 [==============================] - 1s 907us/sample - loss: 0.0418 - acc: 0.4995 - val_loss: 0.0596 - val_acc: 0.2846\n",
            "Epoch 66/100\n",
            "1101/1101 [==============================] - 1s 920us/sample - loss: 0.0540 - acc: 0.3706 - val_loss: 0.0744 - val_acc: 0.2358\n",
            "Epoch 67/100\n",
            "1101/1101 [==============================] - 1s 918us/sample - loss: 0.0491 - acc: 0.3996 - val_loss: 0.0659 - val_acc: 0.2602\n",
            "Epoch 68/100\n",
            "1101/1101 [==============================] - 1s 910us/sample - loss: 0.0486 - acc: 0.3797 - val_loss: 0.0555 - val_acc: 0.3496\n",
            "Epoch 69/100\n",
            "1101/1101 [==============================] - 1s 919us/sample - loss: 0.0445 - acc: 0.4260 - val_loss: 0.0560 - val_acc: 0.2927\n",
            "Epoch 70/100\n",
            "1101/1101 [==============================] - 1s 918us/sample - loss: 0.0436 - acc: 0.4668 - val_loss: 0.0542 - val_acc: 0.3821\n",
            "Epoch 71/100\n",
            "1101/1101 [==============================] - 1s 906us/sample - loss: 0.0425 - acc: 0.4587 - val_loss: 0.0888 - val_acc: 0.1626\n",
            "Epoch 72/100\n",
            "1101/1101 [==============================] - 1s 908us/sample - loss: 0.0438 - acc: 0.4569 - val_loss: 0.0644 - val_acc: 0.2927\n",
            "Epoch 73/100\n",
            "1101/1101 [==============================] - 1s 911us/sample - loss: 0.0431 - acc: 0.4805 - val_loss: 0.0470 - val_acc: 0.4878\n",
            "Epoch 74/100\n",
            "1101/1101 [==============================] - 1s 915us/sample - loss: 0.0405 - acc: 0.4959 - val_loss: 0.0503 - val_acc: 0.3821\n",
            "Epoch 75/100\n",
            "1101/1101 [==============================] - 1s 907us/sample - loss: 0.0407 - acc: 0.4905 - val_loss: 0.0467 - val_acc: 0.4228\n",
            "Epoch 76/100\n",
            "1101/1101 [==============================] - 1s 915us/sample - loss: 0.0398 - acc: 0.5195 - val_loss: 0.0497 - val_acc: 0.4146\n",
            "Epoch 77/100\n",
            "1101/1101 [==============================] - 1s 910us/sample - loss: 0.0435 - acc: 0.4696 - val_loss: 0.0865 - val_acc: 0.1545\n",
            "Epoch 78/100\n",
            "1101/1101 [==============================] - 1s 925us/sample - loss: 0.0428 - acc: 0.4705 - val_loss: 0.0746 - val_acc: 0.1789\n",
            "Epoch 79/100\n",
            "1101/1101 [==============================] - 1s 912us/sample - loss: 0.0398 - acc: 0.5204 - val_loss: 0.0491 - val_acc: 0.3984\n",
            "Epoch 80/100\n",
            "1101/1101 [==============================] - 1s 913us/sample - loss: 0.0384 - acc: 0.5404 - val_loss: 0.0571 - val_acc: 0.3333\n",
            "Epoch 81/100\n",
            "1101/1101 [==============================] - 1s 915us/sample - loss: 0.0397 - acc: 0.5177 - val_loss: 0.0408 - val_acc: 0.4553\n",
            "Epoch 82/100\n",
            "1101/1101 [==============================] - 1s 918us/sample - loss: 0.0421 - acc: 0.5023 - val_loss: 0.0553 - val_acc: 0.3171\n",
            "Epoch 83/100\n",
            "1101/1101 [==============================] - 1s 923us/sample - loss: 0.0415 - acc: 0.4986 - val_loss: 0.0847 - val_acc: 0.2358\n",
            "Epoch 84/100\n",
            "1101/1101 [==============================] - 1s 903us/sample - loss: 0.0381 - acc: 0.5213 - val_loss: 0.0691 - val_acc: 0.3089\n",
            "Epoch 85/100\n",
            "1101/1101 [==============================] - 1s 915us/sample - loss: 0.0365 - acc: 0.5550 - val_loss: 0.0675 - val_acc: 0.2520\n",
            "Epoch 86/100\n",
            "1101/1101 [==============================] - 1s 913us/sample - loss: 0.0389 - acc: 0.5259 - val_loss: 0.0653 - val_acc: 0.3008\n",
            "Epoch 87/100\n",
            "1101/1101 [==============================] - 1s 921us/sample - loss: 0.0365 - acc: 0.5568 - val_loss: 0.0464 - val_acc: 0.4065\n",
            "Epoch 88/100\n",
            "1101/1101 [==============================] - 1s 905us/sample - loss: 0.0387 - acc: 0.5268 - val_loss: 0.0473 - val_acc: 0.4634\n",
            "Epoch 89/100\n",
            "1101/1101 [==============================] - 1s 911us/sample - loss: 0.0372 - acc: 0.5513 - val_loss: 0.0540 - val_acc: 0.3740\n",
            "Epoch 90/100\n",
            "1101/1101 [==============================] - 1s 911us/sample - loss: 0.0359 - acc: 0.5749 - val_loss: 0.0427 - val_acc: 0.4553\n",
            "Epoch 91/100\n",
            "1101/1101 [==============================] - 1s 919us/sample - loss: 0.0333 - acc: 0.6049 - val_loss: 0.0457 - val_acc: 0.4797\n",
            "Epoch 92/100\n",
            "1101/1101 [==============================] - 1s 920us/sample - loss: 0.0338 - acc: 0.6058 - val_loss: 0.0480 - val_acc: 0.4390\n",
            "Epoch 93/100\n",
            "1101/1101 [==============================] - 1s 921us/sample - loss: 0.0315 - acc: 0.6312 - val_loss: 0.0564 - val_acc: 0.3333\n",
            "Epoch 94/100\n",
            "1101/1101 [==============================] - 1s 918us/sample - loss: 0.0324 - acc: 0.6240 - val_loss: 0.0786 - val_acc: 0.2358\n",
            "Epoch 95/100\n",
            "1101/1101 [==============================] - 1s 920us/sample - loss: 0.0459 - acc: 0.4750 - val_loss: 0.0538 - val_acc: 0.4065\n",
            "Epoch 96/100\n",
            "1101/1101 [==============================] - 1s 922us/sample - loss: 0.0425 - acc: 0.5068 - val_loss: 0.0930 - val_acc: 0.1301\n",
            "Epoch 97/100\n",
            "1101/1101 [==============================] - 1s 909us/sample - loss: 0.0408 - acc: 0.5431 - val_loss: 0.0643 - val_acc: 0.3008\n",
            "Epoch 98/100\n",
            "1101/1101 [==============================] - 1s 913us/sample - loss: 0.0345 - acc: 0.6076 - val_loss: 0.0564 - val_acc: 0.3821\n",
            "Epoch 99/100\n",
            "1101/1101 [==============================] - 1s 921us/sample - loss: 0.0385 - acc: 0.5622 - val_loss: 0.0720 - val_acc: 0.2927\n",
            "Epoch 100/100\n",
            "1101/1101 [==============================] - 1s 908us/sample - loss: 0.0425 - acc: 0.5032 - val_loss: 0.0815 - val_acc: 0.2683\n"
          ],
          "name": "stdout"
        }
      ]
    },
    {
      "cell_type": "code",
      "metadata": {
        "id": "zqkntVwujsIr",
        "colab": {
          "base_uri": "https://localhost:8080/",
          "height": 573
        },
        "outputId": "5dd5e5dd-2fc2-44ef-aa4a-4bf29ca4192b"
      },
      "source": [
        "import matplotlib.pyplot as plt\n",
        "# Plot training & validation accuracy values\n",
        "plt.plot(history.history['acc'])\n",
        "plt.plot(history.history['val_acc'])\n",
        "plt.title('Model accuracy')\n",
        "plt.ylabel('Accuracy')\n",
        "plt.xlabel('Epoch')\n",
        "plt.legend(['Train', 'Test'], loc='upper left')\n",
        "plt.show()\n",
        "\n",
        "# Plot training & validation loss values\n",
        "plt.plot(history.history['loss'])\n",
        "plt.plot(history.history['val_loss'])\n",
        "plt.title('Model loss')\n",
        "plt.ylabel('Loss')\n",
        "plt.xlabel('Epoch')\n",
        "plt.legend(['Train', 'Test'], loc='upper left')\n",
        "plt.show()"
      ],
      "execution_count": 18,
      "outputs": [
        {
          "output_type": "display_data",
          "data": {
            "image/png": "[encoded data removed]",
            "text/plain": [
              "<Figure size 432x288 with 1 Axes>"
            ]
          },
          "metadata": {
            "tags": [],
            "needs_background": "light"
          }
        },
        {
          "output_type": "display_data",
          "data": {
            "image/png": "[encoded data removed]",
            "text/plain": [
              "<Figure size 432x288 with 1 Axes>"
            ]
          },
          "metadata": {
            "tags": [],
            "needs_background": "light"
          }
        }
      ]
    },
    {
      "cell_type": "code",
      "metadata": {
        "id": "d0S57XE2OJs1",
        "colab": {
          "base_uri": "https://localhost:8080/"
        },
        "outputId": "98b09227-fabf-46ff-d998-86983621027b"
      },
      "source": [
        "results = model.predict(val_data)"
      ],
      "execution_count": 19,
      "outputs": [
        {
          "output_type": "stream",
          "text": [
            "/usr/local/lib/python3.6/dist-packages/tensorflow/python/keras/engine/training.py:2325: UserWarning: `Model.state_updates` will be removed in a future version. This property should not be used in TensorFlow 2.0, as `updates` are applied automatically.\n",
            "  warnings.warn('`Model.state_updates` will be removed in a future version. '\n"
          ],
          "name": "stderr"
        }
      ]
    },
    {
      "cell_type": "code",
      "metadata": {
        "id": "gQik_L7dZfZW"
      },
      "source": [
        "a = np.multiply(results,val_labels)"
      ],
      "execution_count": 20,
      "outputs": []
    },
    {
      "cell_type": "code",
      "metadata": {
        "id": "jRKwlixoaopF"
      },
      "source": [
        "a = np.sum(a,axis = 1)"
      ],
      "execution_count": 21,
      "outputs": []
    },
    {
      "cell_type": "code",
      "metadata": {
        "id": "fiJ6wtKYaqBS",
        "colab": {
          "base_uri": "https://localhost:8080/"
        },
        "outputId": "f1951853-a199-4880-b058-83a7f7345741"
      },
      "source": [
        "np.sort(results, axis=1)"
      ],
      "execution_count": 22,
      "outputs": [
        {
          "output_type": "execute_result",
          "data": {
            "text/plain": [
              "array([[2.1192788e-15, 5.7956904e-15, 2.7152370e-14, ..., 2.5111076e-06,\n",
              "        4.3018616e-05, 9.9995446e-01],\n",
              "       [1.4948270e-08, 1.6007992e-07, 1.7242883e-05, ..., 1.5040342e-02,\n",
              "        1.6842024e-02, 9.3681043e-01],\n",
              "       [4.6586063e-14, 7.3881938e-13, 6.4988670e-12, ..., 3.8484882e-06,\n",
              "        4.3148975e-06, 9.9998713e-01],\n",
              "       ...,\n",
              "       [0.0000000e+00, 0.0000000e+00, 0.0000000e+00, ..., 0.0000000e+00,\n",
              "        0.0000000e+00, 1.0000000e+00],\n",
              "       [9.9711567e-15, 1.1776990e-13, 4.5557755e-12, ..., 1.7060121e-07,\n",
              "        8.0981800e-07, 9.9999869e-01],\n",
              "       [3.0901009e-15, 1.7754107e-14, 4.6386365e-13, ..., 1.6301063e-07,\n",
              "        2.9732979e-07, 9.9999940e-01]], dtype=float32)"
            ]
          },
          "metadata": {
            "tags": []
          },
          "execution_count": 22
        }
      ]
    },
    {
      "cell_type": "code",
      "metadata": {
        "id": "6VyvmRBwepNI"
      },
      "source": [
        "result1 = (a == np.max(results,axis = 1))"
      ],
      "execution_count": 23,
      "outputs": []
    },
    {
      "cell_type": "code",
      "metadata": {
        "id": "8cxz1Sbvews0",
        "colab": {
          "base_uri": "https://localhost:8080/"
        },
        "outputId": "9af30524-9658-4dee-a7e3-fa4a4651c6fa"
      },
      "source": [
        "print(np.sum(result1)/result1.size)"
      ],
      "execution_count": 24,
      "outputs": [
        {
          "output_type": "stream",
          "text": [
            "0.25\n"
          ],
          "name": "stdout"
        }
      ]
    },
    {
      "cell_type": "code",
      "metadata": {
        "id": "c8AjhbyIgtgE",
        "colab": {
          "base_uri": "https://localhost:8080/"
        },
        "outputId": "2e8650dc-89be-40f7-d2cc-d5cc64878aa8"
      },
      "source": [
        "result5 = np.array(a>results[:,11])\n",
        "print(np.sum(result5)/result5.size)"
      ],
      "execution_count": 25,
      "outputs": [
        {
          "output_type": "stream",
          "text": [
            "0.7720588235294118\n"
          ],
          "name": "stdout"
        }
      ]
    },
    {
      "cell_type": "code",
      "metadata": {
        "id": "4cB4tryAhgOM"
      },
      "source": [
        ""
      ],
      "execution_count": null,
      "outputs": []
    }
  ]
}